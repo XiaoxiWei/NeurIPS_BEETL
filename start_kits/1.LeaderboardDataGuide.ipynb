{
 "cells": [
  {
   "cell_type": "markdown",
   "metadata": {},
   "source": [
    "# Tutorial for loading leaderboard competition data\n",
    "\n",
    "To start with this competition, you will need to download the data for the two tasks, sleep cassette and motor imagery (MI). You could either handle them yourself, downloading them from here:\n",
    "- Sleep Source : https://figshare.com/articles/dataset/SleepSource/14839659\n",
    "- Sleep Leaderboard test data : https://figshare.com/articles/dataset/LeaderboardSleep/14839653\n",
    "- MI source 1 (Cho2017) : ftp://parrot.genomics.cn/gigadb/pub/10.5524/100001_101000/100295/mat_data/\n",
    "- MI source 2 (BNCI 001-2014) : http://bnci-horizon-2020.eu/database/data-sets\n",
    "- MI source 3 (PhysionetMI) : https://physionet.org/content/eegmmidb/1.0.0/\n",
    "- MI Leaderboard test data : https://figshare.com/articles/dataset/LeaderboardSleep/14839653\n",
    "\n",
    "You could also use our competition [package](https://github.com/sylvchev/beetl-competition) to take care automatically of the downloading part, as shown in this tutorial.\n",
    "\n",
    "Description of the datasets and specific information are available from https://beetl.ai/data, and http://moabb.neurotechx.com/docs/datasets.html \n",
    "\n",
    "**Important** \n",
    "Please note that for Task 1, you are ONLY allowed to use data in 'SleepSource' and 'LeaderboardSleep', we regard using data not in these folders as cheating. \n",
    "\n",
    "For Task 2, you are ONLY allowed to use Cho 2017, BNCI 2014-001, PhysionetMI (see how to use MOABB API to download in motor imagery task start kits) and data provided in 'leaderboardMI', we regard using data not in these data sets and folders as cheating. \n",
    "\n",
    "We will test run code from top ranking teams in the final stage of the competition. Please fix your random seed or so to make sure the experiemnts are reproducible.\n",
    "\n",
    "## Sleep stage task\n",
    "\n",
    "The goal is to detect sleep stage, using source sleep EEG age group 25-59 with training trials and labels, and apply this on target age group 60-80 (10 sessions). The target dataset, called Leaderboard Sleep, is divided in two groups. First group contains 5 example subjects with labels, they are the example subjects from the testing group. Second group is the testing group, which contains the leaderboard subjects 6-17 that without labels. You need to give predictions for those labels.\n",
    "\n",
    "**Data information**\n",
    "\n",
    "| Type | Value |\n",
    "| :- | :-: |\n",
    "| Sampling rate | 100 Hz |\n",
    "| Trial window | 30s |\n",
    "| Nb of channels | 2 bipolar (Fpz-Cz, Pz-Oz) |\n",
    "| Highpass filter | 0.5 Hz |\n",
    "| Lowpass filter | 100.Hz |\n",
    "\n",
    "The sleep stage labels to predict are:\n",
    "\n",
    "| Sleep stage | label |\n",
    "| :- | :-: |\n",
    "| W | 0 |\n",
    "| stage 1 | 1 |\n",
    "| stage 2| 2 |\n",
    "| stage 3 | 3 |\n",
    "| stage 4 | 4 |\n",
    "| REM | 5 |\n",
    "\n",
    "\n",
    "## Motor imagery task\n",
    "\n",
    "The source datasets are available on the url indicated above or from MOABB, as `BNCI2014001`, `Cho2017` and `PhysionetMI` datasets.\n",
    "\n",
    "\n",
    "For the leaderboard, there are five subjects for testing, S1 S2 are from dataset A, S3 S4 S5 are from dataset B. We will release more dataset details after the competition. For each subject, there are two split of data, training and testing. Training split contain 100 trials (S1, S2) or 120 trials (S3, S4 and S5) with labels as target domain samples of that subject. Testing folders contain the trials that you should predict.\n",
    "\n",
    "**Data information for dataset A (subject 1 & 2)**\n",
    "\n",
    "| Type | Value |\n",
    "| :- | :-: |\n",
    "| Sampling rate | 500 Hz |\n",
    "| Trial window | 4s |\n",
    "| Nb of channels | 63 EEG |\n",
    "| Highpass filter | 1 Hz |\n",
    "| Lowpass filter | 100.Hz |\n",
    "| Notch filter | 50 Hz |\n",
    "\n",
    "The name of the channels are:\n",
    "'Fp1', 'Fz', 'F3', 'F7', 'FT9', 'FC5', 'FC1', 'C3', 'T7', \n",
    "'TP9', 'CP5', 'CP1', 'Pz', 'P3', 'P7', 'O1', 'Oz', \n",
    "'O2', 'P4', 'P8', 'TP10', 'CP6', 'CP2', 'C4', 'T8',\n",
    "'FT10', 'FC6', 'FC2', 'F4', 'F8', 'Fp2', 'AF7', 'AF3', \n",
    "'AFz', 'F1', 'F5', 'FT7', 'FC3', 'FCz', 'C1', 'C5', \n",
    "'TP7', 'CP3', 'P1', 'P5', 'PO7', 'PO3', 'POz', 'PO4', \n",
    "'PO8', 'P6', 'P2', 'CPz', 'CP4', 'TP8', 'C6', 'C2',\n",
    "'FC4', 'FT8', 'F6', 'F2', 'AF4', 'AF8'.\n",
    "\n",
    "**Data information for dataset B (subject 3, 4, 5)**\n",
    "\n",
    "| Type | Value |\n",
    "| :- | :-: |\n",
    "| Sampling rate | 200 Hz |\n",
    "| Trial window | 4s |\n",
    "| Nb of channels | 32 EEG |\n",
    "| Highpass filter | 1 Hz |\n",
    "| Lowpass filter | 100.Hz |\n",
    "\n",
    "The name of the channels are:\n",
    "'Fp1', 'Fp2', 'F3', 'Fz', 'F4', 'FC5', 'FC1', 'FC2','FC6', 'C5', 'C3',\n",
    "'C1', 'Cz', 'C2', 'C4', 'C6', 'CP5', 'CP3', 'CP1',\n",
    "'CPz', 'CP2', 'CP4', 'CP6', 'P7', 'P5', 'P3', 'P1', 'Pz', \n",
    "'P2', 'P4', 'P6', 'P8'\n",
    "\n",
    "In dataset A, the motor imagery labels to predict are:\n",
    "\n",
    "| MI task | label |\n",
    "| :- | :-: |\n",
    "| Rest | 0 |\n",
    "| Lefthand | 1 |\n",
    "| Righthand | 2 |\n",
    "| Feet | 3 |\n",
    "\n",
    "In dataset B, the motor imagery labels to predict are:\n",
    "\n",
    "| MI task | label |\n",
    "| :- | :-: |\n",
    "| Lefthand | 0 |\n",
    "| Righthand | 1 |\n",
    "| Feet | 2 |\n",
    "| Rest | 3 |\n",
    "\n",
    "**However, in task 2, there will be only three catergorties to predict as output labels - Lefthand (0), Righthand (1) and other (2)**"
   ]
  },
  {
   "cell_type": "markdown",
   "metadata": {},
   "source": [
    "# Downloading data automatically\n",
    "\n",
    "You could use the helper [package](https://github.com/sylvchev/beetl-competition) to download automatically the data. You could install it with `pip install git+https://github.com/sylvchev/beetl-competition` or `pip install -e git+https://github.com/sylvchev/beetl-competition#egg=beetl-competition`\n",
    "\n",
    "And then, it is simple as:"
   ]
  },
  {
   "cell_type": "code",
   "execution_count": 5,
   "metadata": {},
   "outputs": [
    {
     "name": "stdout",
     "output_type": "stream",
     "text": [
      "Sleep leaderboard: There are 25748 trials with 2 electrodes and 3000 time samples\n",
      "MI leaderboard A: There are 400 trials with 63 electrodes and 2000 time samples\n",
      "MI leaderboard B: There are 600 trials with 32 electrodes and 800 time samples\n"
     ]
    }
   ],
   "source": [
    "from beetl.task_datasets import BeetlSleepLeaderboard, BeetlMILeaderboard\n",
    "\n",
    "_, _, X_sleep_test, _ = BeetlSleepLeaderboard().get_data(subjects=range(6, 18))\n",
    "print (\"Sleep leaderboard: There are {} trials with {} electrodes and {} time samples\".format(*X_sleep_test.shape))\n",
    "\n",
    "_, _, X_MIA_test = BeetlMILeaderboard().get_data(dataset='A')\n",
    "print (\"MI leaderboard A: There are {} trials with {} electrodes and {} time samples\".format(*X_MIA_test.shape))\n",
    "\n",
    "_, _, X_MIB_test = BeetlMILeaderboard().get_data(dataset='B')\n",
    "print (\"MI leaderboard B: There are {} trials with {} electrodes and {} time samples\".format(*X_MIB_test.shape))"
   ]
  },
  {
   "cell_type": "markdown",
   "metadata": {},
   "source": [
    "# Loading data manually\n",
    "\n",
    "Alternatively, you could download the data from https://figshare.com/articles/dataset/leaderboardMI/14839650 and https://figshare.com/articles/dataset/LeaderboardSleep/14839653. When you have downloaded the competition data, you could load your data as shown below. You just need to specify the path where you store the data\n",
    "\n",
    "## Sleep task"
   ]
  },
  {
   "cell_type": "code",
   "execution_count": 1,
   "metadata": {},
   "outputs": [],
   "source": [
    "import numpy as np\n",
    "import pickle"
   ]
  },
  {
   "cell_type": "code",
   "execution_count": 2,
   "metadata": {},
   "outputs": [
    {
     "name": "stdout",
     "output_type": "stream",
     "text": [
      "There are 25748 trials with 2 electrodes and 3000 time samples\n"
     ]
    }
   ],
   "source": [
    "# savebase = 'C:\\\\Path\\\\to\\\\LeaderboardSleep\\\\testing\\\\'\n",
    "savebase = '/Users/sylchev/mne_data/MNE-beetlsleepleaderboard-data/testing/'\n",
    "savebase = '/home/sylchev/mne_data/MNE-beetlsleepleaderboard-data/testing/'\n",
    "X_sleep_test = []\n",
    "for subj in range(6, 18):\n",
    "    for session in range(1, 3):\n",
    "        with open(savebase + \"leaderboard_s{}r{}X.npy\".format(subj, session), 'rb') as f:\n",
    "            X_sleep_test.append(pickle.load(f))\n",
    "X_sleep_test = np.concatenate(X_sleep_test)\n",
    "\n",
    "print (\"There are {} trials with {} electrodes and {} time samples\".format(*X_sleep_test.shape))"
   ]
  },
  {
   "cell_type": "markdown",
   "metadata": {},
   "source": [
    "## Motor imagery dataset A (S1, S2)"
   ]
  },
  {
   "cell_type": "code",
   "execution_count": 3,
   "metadata": {},
   "outputs": [
    {
     "name": "stdout",
     "output_type": "stream",
     "text": [
      "There are 400 trials with 63 electrodes and 2000 time samples\n"
     ]
    }
   ],
   "source": [
    "import os.path as osp\n",
    "\n",
    "\n",
    "# path = 'C:\\\\Path\\\\to\\\\leaderboardMI'\n",
    "path = '/Users/sylchev/mne_data/MNE-beetlmileaderboard-data/'\n",
    "path = '/home/sylchev/mne_data/MNE-beetlmileaderboard-data/'\n",
    "\n",
    "X_MIA_test = []\n",
    "for subj in range(1, 3):\n",
    "    savebase = osp.join(path, \"S{}\".format(subj), \"testing\")\n",
    "\n",
    "    for i in range(6, 16):\n",
    "        with open(osp.join(savebase, \"race{}_padsData.npy\".format(i)), 'rb') as f:\n",
    "            X_MIA_test.append(pickle.load(f))\n",
    "X_MIA_test = np.concatenate(X_MIA_test)\n",
    "\n",
    "print (\"There are {} trials with {} electrodes and {} time samples\".format(*X_MIA_test.shape))"
   ]
  },
  {
   "cell_type": "markdown",
   "metadata": {},
   "source": [
    "## Motor imagery dataset B (S3, S4, S5)"
   ]
  },
  {
   "cell_type": "code",
   "execution_count": 4,
   "metadata": {},
   "outputs": [
    {
     "name": "stdout",
     "output_type": "stream",
     "text": [
      "There are 600 trials with 32 electrodes and 800 time samples\n"
     ]
    }
   ],
   "source": [
    "# path = 'C:\\\\Path\\\\to\\\\leaderboardMI'\n",
    "path = '/Users/sylchev/mne_data/MNE-beetlmileaderboard-data/'\n",
    "path = '/home/sylchev/mne_data/MNE-beetlmileaderboard-data/'\n",
    "\n",
    "X_MIB_test = []\n",
    "for subj in range(3, 6):\n",
    "    savebase = osp.join(path, \"S{}\".format(subj), \"testing\")\n",
    "    with open(osp.join(savebase, \"testing_s{}X.npy\".format(subj)), 'rb') as f:\n",
    "        X_MIB_test.append(pickle.load(f))\n",
    "X_MIB_test = np.concatenate(X_MIB_test)\n",
    "\n",
    "print (\"There are {} trials with {} electrodes and {} time samples\".format(*X_MIB_test.shape))"
   ]
  },
  {
   "cell_type": "code",
   "execution_count": null,
   "metadata": {},
   "outputs": [],
   "source": []
  }
 ],
 "metadata": {
  "kernelspec": {
   "display_name": "Python 3 (ipykernel)",
   "language": "python",
   "name": "python3"
  },
  "language_info": {
   "codemirror_mode": {
    "name": "ipython",
    "version": 3
   },
   "file_extension": ".py",
   "mimetype": "text/x-python",
   "name": "python",
   "nbconvert_exporter": "python",
   "pygments_lexer": "ipython3",
   "version": "3.7.16"
  }
 },
 "nbformat": 4,
 "nbformat_minor": 4
}
