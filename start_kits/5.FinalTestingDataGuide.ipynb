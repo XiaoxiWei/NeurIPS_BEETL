{
 "cells": [
  {
   "cell_type": "markdown",
   "metadata": {},
   "source": [
    "# Tutorial for loading Final Testing competition data\n",
    "\n",
    "To start with this competition, you will need to download the data for the two tasks, sleep cassette and motor imagery (MI). You could either handle them yourself, downloading them from here:\n",
    "- Sleep final test data : \n",
    "https://figshare.com/articles/dataset/finalSleep/16586225\n",
    "\n",
    "There are 5 example subjects with labels of this age group in ‘sleep_target’ folder for convenience of transfer learning.\n",
    "\n",
    "- MI final test data : \n",
    "https://figshare.com/articles/dataset/finalMI/16586213\n",
    "\n",
    "There are some example trials with labels in ‘training’ folder of each subject for convenience of transfer learning.\n",
    "\n",
    "\n",
    "APIs for auto downloading the final testing data will be also available in the next update of [package](https://github.com/sylvchev/beetl-competition), currently you could directly use upper links for downloading.\n",
    "\n",
    "You are allowed to use the Sleep/MI data in the leaderboard phase in this final testing phase, while we will not provide true labels of data in leaderboard phase.\n",
    "\n",
    "We will test run code from top ranking teams in the final stage of the competition. Please fix your random seed or so to make sure the experiemnts are reproducible.\n",
    "\n",
    "## Sleep stage task\n",
    "\n",
    "\n",
    "**Data information**\n",
    "\n",
    "| Type | Value |\n",
    "| :- | :-: |\n",
    "| Sampling rate | 100 Hz |\n",
    "| Trial window | 30s |\n",
    "| Nb of channels | 2 bipolar (Fpz-Cz, Pz-Oz) |\n",
    "| Highpass filter | 0.5 Hz |\n",
    "| Lowpass filter | 100.Hz |\n",
    "\n",
    "The sleep stage labels to predict are:\n",
    "\n",
    "| Sleep stage | label |\n",
    "| :- | :-: |\n",
    "| W | 0 |\n",
    "| stage 1 | 1 |\n",
    "| stage 2| 2 |\n",
    "| stage 3 | 3 |\n",
    "| stage 4 | 4 |\n",
    "| REM | 5 |\n",
    "\n",
    "\n",
    "## Motor imagery task\n",
    "\n",
    "The source datasets are available on the url indicated above or from MOABB, as `BNCI2014001`, `Cho2017` and `PhysionetMI` datasets.\n",
    "\n",
    "**Data information for dataset A (subject 1 , 2 & 3)**\n",
    "\n",
    "| Type | Value |\n",
    "| :- | :-: |\n",
    "| Sampling rate | 500 Hz |\n",
    "| Trial window | 4s |\n",
    "| Nb of channels | 63 EEG |\n",
    "| Highpass filter | 1 Hz |\n",
    "| Lowpass filter | 100.Hz |\n",
    "| Notch filter | 50 Hz |\n",
    "\n",
    "The name of the channels are:\n",
    "'Fp1', 'Fz', 'F3', 'F7', 'FT9', 'FC5', 'FC1', 'C3', 'T7', \n",
    "'TP9', 'CP5', 'CP1', 'Pz', 'P3', 'P7', 'O1', 'Oz', \n",
    "'O2', 'P4', 'P8', 'TP10', 'CP6', 'CP2', 'C4', 'T8',\n",
    "'FT10', 'FC6', 'FC2', 'F4', 'F8', 'Fp2', 'AF7', 'AF3', \n",
    "'AFz', 'F1', 'F5', 'FT7', 'FC3', 'FCz', 'C1', 'C5', \n",
    "'TP7', 'CP3', 'P1', 'P5', 'PO7', 'PO3', 'POz', 'PO4', \n",
    "'PO8', 'P6', 'P2', 'CPz', 'CP4', 'TP8', 'C6', 'C2',\n",
    "'FC4', 'FT8', 'F6', 'F2', 'AF4', 'AF8'.\n",
    "\n",
    "**Data information for dataset B (subject 4, 5)**\n",
    "\n",
    "| Type | Value |\n",
    "| :- | :-: |\n",
    "| Sampling rate | 200 Hz |\n",
    "| Trial window | 4s |\n",
    "| Nb of channels | 32 EEG |\n",
    "| Highpass filter | 1 Hz |\n",
    "| Lowpass filter | 100.Hz |\n",
    "\n",
    "The name of the channels are:\n",
    "'Fp1', 'Fp2', 'F3', 'Fz', 'F4', 'FC5', 'FC1', 'FC2','FC6', 'C5', 'C3',\n",
    "'C1', 'Cz', 'C2', 'C4', 'C6', 'CP5', 'CP3', 'CP1',\n",
    "'CPz', 'CP2', 'CP4', 'CP6', 'P7', 'P5', 'P3', 'P1', 'Pz', \n",
    "'P2', 'P4', 'P6', 'P8'\n",
    "\n",
    "In both datasets, the motor imagery labels to predict are:\n",
    "\n",
    "| MI task | label |\n",
    "| :- | :-: |\n",
    "| Lefthand | 0 |\n",
    "| Righthand | 1 |\n",
    "| Feet | 2 |\n",
    "| Rest | 3 |\n",
    "\n",
    "**However, in task 2, there will be only three catergorties to predict as output labels - Lefthand (0), Righthand (1) and other (2)**"
   ]
  },
  {
   "cell_type": "markdown",
   "metadata": {},
   "source": [
    "# Loading data manually\n",
    "\n",
    "When you have downloaded the competition data, you could load your data as shown below. You just need to specify the path where you store the data\n",
    "\n",
    "## Sleep task"
   ]
  },
  {
   "cell_type": "code",
   "execution_count": 4,
   "metadata": {},
   "outputs": [],
   "source": [
    "import numpy as np\n",
    "import pickle"
   ]
  },
  {
   "cell_type": "code",
   "execution_count": 9,
   "metadata": {},
   "outputs": [
    {
     "name": "stdout",
     "output_type": "stream",
     "text": [
      "There are 25756 trials with 2 electrodes and 3000 time samples\n"
     ]
    }
   ],
   "source": [
    "savebase = 'D:\\\\beetl_testingData\\\\finalSleep\\\\testing\\\\'\n",
    "X_sleep_test = []\n",
    "#starts from s5 in final set\n",
    "for subj in range(5, 14):\n",
    "    for session in range(1, 3):\n",
    "        # \"testing_s{}r{}X.npy\", replacing \"leaderboard_s{}r{}X.npy\" before\n",
    "        with open(savebase + \"testing_s{}r{}X.npy\".format(subj, session), 'rb') as f:\n",
    "            X_sleep_test.append(pickle.load(f))\n",
    "X_sleep_test = np.concatenate(X_sleep_test)\n",
    "\n",
    "print (\"There are {} trials with {} electrodes and {} time samples\".format(*X_sleep_test.shape))"
   ]
  },
  {
   "cell_type": "markdown",
   "metadata": {},
   "source": [
    "## Motor imagery dataset A (S1, S2, S3)"
   ]
  },
  {
   "cell_type": "code",
   "execution_count": 10,
   "metadata": {},
   "outputs": [
    {
     "name": "stdout",
     "output_type": "stream",
     "text": [
      "There are 600 trials with 63 electrodes and 2000 time samples\n"
     ]
    }
   ],
   "source": [
    "import os.path as osp\n",
    "\n",
    "path = 'D:\\\\beetl_testingData\\\\finalMI\\\\'\n",
    "\n",
    "#3 subjects in data set A in final set\n",
    "X_MIA_test = []\n",
    "for subj in range(1, 4):\n",
    "    savebase = osp.join(path, \"S{}\".format(subj), \"testing\")\n",
    "    for i in range(6, 16):\n",
    "        with open(osp.join(savebase, \"race{}_padsData.npy\".format(i)), 'rb') as f:\n",
    "            X_MIA_test.append(pickle.load(f))\n",
    "X_MIA_test = np.concatenate(X_MIA_test)\n",
    "\n",
    "print (\"There are {} trials with {} electrodes and {} time samples\".format(*X_MIA_test.shape))"
   ]
  },
  {
   "cell_type": "markdown",
   "metadata": {},
   "source": [
    "## Motor imagery dataset B (S4, S5)"
   ]
  },
  {
   "cell_type": "code",
   "execution_count": 11,
   "metadata": {},
   "outputs": [
    {
     "name": "stdout",
     "output_type": "stream",
     "text": [
      "There are 400 trials with 32 electrodes and 800 time samples\n"
     ]
    }
   ],
   "source": [
    "path = 'D:\\\\beetl_testingData\\\\finalMI\\\\'\n",
    "# path = '/Users/sylchev/mne_data/MNE-beetlmileaderboard-data/'\n",
    "# path = '/home/sylchev/mne_data/MNE-beetlmileaderboard-data/'\n",
    "# 2 subjects from data set B in final set\n",
    "X_MIB_test = []\n",
    "for subj in range(4, 6):\n",
    "    savebase = osp.join(path, \"S{}\".format(subj), \"testing\")\n",
    "    with open(osp.join(savebase, \"testing_s{}X.npy\".format(subj)), 'rb') as f:\n",
    "        X_MIB_test.append(pickle.load(f))\n",
    "X_MIB_test = np.concatenate(X_MIB_test)\n",
    "\n",
    "print (\"There are {} trials with {} electrodes and {} time samples\".format(*X_MIB_test.shape))"
   ]
  },
  {
   "cell_type": "code",
   "execution_count": null,
   "metadata": {},
   "outputs": [],
   "source": []
  }
 ],
 "metadata": {
  "kernelspec": {
   "display_name": "Python 3",
   "language": "python",
   "name": "python3"
  },
  "language_info": {
   "codemirror_mode": {
    "name": "ipython",
    "version": 3
   },
   "file_extension": ".py",
   "mimetype": "text/x-python",
   "name": "python",
   "nbconvert_exporter": "python",
   "pygments_lexer": "ipython3",
   "version": "3.8.8"
  }
 },
 "nbformat": 4,
 "nbformat_minor": 4
}
