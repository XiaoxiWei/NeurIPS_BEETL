{
 "cells": [
  {
   "cell_type": "markdown",
   "id": "9ecbe9fd-f42d-4603-8f5c-5817415b7cc4",
   "metadata": {},
   "source": [
    "# Tutorial for Final Stage Testing\n",
    "- BEETL Testing Labels for the sleep task and BCI task could be downloaded through:\n",
    "https://figshare.com/articles/dataset/BEETL_Final_Testing_True_Labels/21602622"
   ]
  },
  {
   "cell_type": "code",
   "execution_count": 1,
   "id": "2805ddaf-1a6f-4abc-909a-e51b6f7cf13f",
   "metadata": {},
   "outputs": [],
   "source": [
    "import sys\n",
    "import os\n",
    "import os.path\n",
    "import numpy as np\n",
    "from util.evaluate import get_label_weight,scoring"
   ]
  },
  {
   "cell_type": "code",
   "execution_count": 2,
   "id": "42b45b74-e76a-47c4-95d5-7781f4917ad8",
   "metadata": {},
   "outputs": [
    {
     "name": "stdout",
     "output_type": "stream",
     "text": [
      "(25756,)\n",
      "correct:57.56\n"
     ]
    }
   ],
   "source": [
    "truth_file_sleep = \"final_sleep_label.txt\"\n",
    "truth = np.loadtxt(truth_file_sleep, delimiter = \",\").astype(int)\n",
    "print(truth.shape)\n",
    "\n",
    "submission_answer_file = \"final_pred_sleep_label_example.txt\"\n",
    "submission_answer = np.loadtxt(submission_answer_file, delimiter = \",\").astype(int)\n",
    "score = scoring(submission_answer,truth)\n",
    "\n",
    "if score != None:\n",
    "    print(\"correct:%.2f\" % score)\n",
    "else:\n",
    "    print (\"label size doesnt match\")"
   ]
  },
  {
   "cell_type": "code",
   "execution_count": 3,
   "id": "e25ad98b-af4d-455b-9ae1-4575cc0943ef",
   "metadata": {},
   "outputs": [
    {
     "name": "stdout",
     "output_type": "stream",
     "text": [
      "(1000,)\n",
      "correct:41.53\n"
     ]
    }
   ],
   "source": [
    "truth_file_sleep = \"final_MI_label.txt\"\n",
    "truth = np.loadtxt(truth_file_sleep, delimiter = \",\").astype(int)\n",
    "print(truth.shape)\n",
    "\n",
    "submission_answer_file = \"final_pred_MI_label_example.txt\"\n",
    "submission_answer = np.loadtxt(submission_answer_file, delimiter = \",\").astype(int)\n",
    "score = scoring(submission_answer,truth)\n",
    "\n",
    "if score != None:\n",
    "    print(\"correct:%.2f\" % score)\n",
    "else:\n",
    "    print (\"label size doesnt match\")"
   ]
  },
  {
   "cell_type": "code",
   "execution_count": null,
   "id": "56f572bd-bdbd-43c5-b3d5-893facaf178f",
   "metadata": {},
   "outputs": [],
   "source": []
  },
  {
   "cell_type": "code",
   "execution_count": null,
   "id": "f180d0a9-9fcd-4123-959d-4659135671c1",
   "metadata": {},
   "outputs": [],
   "source": []
  },
  {
   "cell_type": "code",
   "execution_count": null,
   "id": "31715fc1-ca99-486e-af04-82da384d90e0",
   "metadata": {},
   "outputs": [],
   "source": []
  },
  {
   "cell_type": "code",
   "execution_count": null,
   "id": "ef2fcee5-2386-46ab-9619-4aba2f47c926",
   "metadata": {},
   "outputs": [],
   "source": []
  },
  {
   "cell_type": "code",
   "execution_count": null,
   "id": "68dd4eec-d23b-47b1-b072-55075ccdb61b",
   "metadata": {},
   "outputs": [],
   "source": []
  },
  {
   "cell_type": "code",
   "execution_count": null,
   "id": "6cd026f8-93b9-4a2e-8f6a-43df2bdb5a94",
   "metadata": {},
   "outputs": [],
   "source": []
  },
  {
   "cell_type": "code",
   "execution_count": null,
   "id": "c3f96b8f-210e-4a0a-b279-6bfff1b3d2ad",
   "metadata": {},
   "outputs": [],
   "source": []
  },
  {
   "cell_type": "code",
   "execution_count": null,
   "id": "4e0ac2c9-553a-4e34-ae8e-a93990c94d73",
   "metadata": {},
   "outputs": [],
   "source": []
  },
  {
   "cell_type": "code",
   "execution_count": null,
   "id": "75c30c6c-c3bb-40c8-8b2f-36dd42fa7041",
   "metadata": {},
   "outputs": [],
   "source": []
  }
 ],
 "metadata": {
  "kernelspec": {
   "display_name": "Python 3 (ipykernel)",
   "language": "python",
   "name": "python3"
  },
  "language_info": {
   "codemirror_mode": {
    "name": "ipython",
    "version": 3
   },
   "file_extension": ".py",
   "mimetype": "text/x-python",
   "name": "python",
   "nbconvert_exporter": "python",
   "pygments_lexer": "ipython3",
   "version": "3.7.16"
  }
 },
 "nbformat": 4,
 "nbformat_minor": 5
}
